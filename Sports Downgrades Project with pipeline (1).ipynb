{
 "cells": [
  {
   "cell_type": "code",
   "execution_count": null,
   "id": "ca0e495d",
   "metadata": {},
   "outputs": [],
   "source": [
    "import pandas as pd\n",
    "import numpy as np\n",
    "from google.cloud import bigquery\n",
    "client = bigquery.Client()\n",
    "import matplotlib.pylab as plt\n",
    "import seaborn as sns\n",
    "import sklearn\n",
    "%matplotlib inline"
   ]
  },
  {
   "cell_type": "markdown",
   "id": "7a406fc2",
   "metadata": {},
   "source": [
    "# Importing Table"
   ]
  },
  {
   "cell_type": "code",
   "execution_count": null,
   "id": "01c7ca8f",
   "metadata": {},
   "outputs": [],
   "source": [
    "full_table = \"\"\"\n",
    "SELECT\n",
    "  DATE_DIFF(\"2019-09-01\", DTV_Last_Activation_Dt, month) AS DTV_LA_Mon_Before_2019_09_01,\n",
    "  DATE_DIFF(\"2019-09-01\", Sports_Last_Activation_Dt, month) AS Sports_LA_Mon_Before_2019_09_01,\n",
    "  DATE_DIFF(Sports_Last_Activation_Dt, DTV_Last_Activation_Dt, month) AS DateDiff_months,\n",
    "  Offers_Applied_Ever_Sports,\n",
    "  h_age_coarse,\n",
    "  h_number_of_adults,\n",
    "  h_number_of_children_in_hh,\n",
    "  DTV_Product_Holding,\n",
    "  Curr_Offer_Amount_Sports,\n",
    "  Curr_Offer_Length_Sports,\n",
    "  Target_sports_downgrade\n",
    "FROM\n",
    "  `sky-uk-ids-analytics-prod.NPR13.Grad_Example_Propensity_Mart_Sports_Downgrades`\n",
    "\"\"\"\n",
    "full = client.query(full_table).to_dataframe()\n",
    "full.head(5)"
   ]
  },
  {
   "cell_type": "code",
   "execution_count": null,
   "id": "a8ed7416",
   "metadata": {},
   "outputs": [],
   "source": [
    "# Taking M off the offer length\n",
    "full['Curr_Offer_Length_Sports'] = full['Curr_Offer_Length_Sports'].str.rstrip('M')\n",
    "full['Curr_Offer_Length_Sports'] = full['Curr_Offer_Length_Sports'].astype('float64')"
   ]
  },
  {
   "cell_type": "code",
   "execution_count": null,
   "id": "66290fb4",
   "metadata": {},
   "outputs": [],
   "source": [
    "full.info()"
   ]
  },
  {
   "cell_type": "markdown",
   "id": "9811f24f",
   "metadata": {},
   "source": [
    "# Visualising"
   ]
  },
  {
   "cell_type": "markdown",
   "id": "14e38e29",
   "metadata": {},
   "source": [
    "### Age"
   ]
  },
  {
   "cell_type": "code",
   "execution_count": null,
   "id": "183a568f",
   "metadata": {},
   "outputs": [],
   "source": [
    "ax = full['h_age_coarse'].value_counts().reindex([\"Unknown\", \"18-25\", \"26-35\",\"36-45\",\"46-55\",\"56-65\",\"66+\"])\n",
    "ax.plot(kind='bar', figsize=(10,5), title=\"Number of people in age range\", xlabel = \"Age Range\", ylabel = \"Frequency\")\n",
    "plt.show()"
   ]
  },
  {
   "cell_type": "code",
   "execution_count": null,
   "id": "96912dc6",
   "metadata": {},
   "outputs": [],
   "source": [
    "plt.figure(figsize=(25, 7))\n",
    "\n",
    "plt.subplot(1,3,1)\n",
    "full.groupby('h_age_coarse')['h_number_of_children_in_hh'].agg(np.mean).plot(kind = \"bar\")\n",
    "plt.xlabel('Age')\n",
    "plt.ylabel('Average Children in hh')\n",
    "\n",
    "plt.subplot(1,3,2)\n",
    "full.groupby('h_age_coarse')['h_number_of_adults'].agg(np.mean).plot(kind = \"bar\")\n",
    "plt.xlabel('Age')\n",
    "plt.ylabel('Average Adults in hh')\n",
    "\n",
    "plt.subplot(1,3,3)\n",
    "full.groupby('h_number_of_children_in_hh')['h_number_of_adults'].agg(np.mean).plot(kind = \"bar\")\n",
    "plt.xlabel('Number children in hh')\n",
    "plt.ylabel('Average adults in hh')\n",
    "plt.show()"
   ]
  },
  {
   "cell_type": "markdown",
   "id": "4b9ff9a9",
   "metadata": {},
   "source": [
    "Number of children in household could predict age or visa-versa (looks Gaussian), so may want to use an iterative imputer for imputing null values."
   ]
  },
  {
   "cell_type": "markdown",
   "id": "737c0fda",
   "metadata": {},
   "source": [
    "### Current offer length for sports"
   ]
  },
  {
   "cell_type": "code",
   "execution_count": null,
   "id": "4a391c5b",
   "metadata": {},
   "outputs": [],
   "source": [
    "sns.histplot(full['Curr_Offer_Length_Sports'],bins = (12,24,100,800,1000))\n",
    "plt.show()"
   ]
  },
  {
   "cell_type": "markdown",
   "id": "3b281f81",
   "metadata": {},
   "source": [
    "Can see that there are many unrealistic offers (i.e. over 5 years) so we shall consider bucketing these offers when pre-processing to make sure the offers over 800 stand out"
   ]
  },
  {
   "cell_type": "code",
   "execution_count": null,
   "id": "329f33c2",
   "metadata": {},
   "outputs": [],
   "source": [
    "Off_len_down = \"\"\"\n",
    "SELECT\n",
    "  Curr_Offer_Length_Sports, SUM(Target_sports_downgrade) AS Downgrades\n",
    "FROM\n",
    "  `sky-uk-ids-analytics-prod.NPR13.Grad_Example_Propensity_Mart_Sports_Downgrades`\n",
    "WHERE Target_sports_downgrade = 1\n",
    "AND Curr_Offer_Length_Sports IS NOT NULL\n",
    "GROUP BY Curr_Offer_Length_Sports\n",
    "\"\"\"\n",
    "offerlen_info = client.query(Off_len_down).to_dataframe()"
   ]
  },
  {
   "cell_type": "code",
   "execution_count": null,
   "id": "ae0975a2",
   "metadata": {},
   "outputs": [],
   "source": [
    "offerlen_info = client.query(Off_len_down).to_dataframe()\n",
    "offerlen_info['Curr_Offer_Length_Sports'] = offerlen_info['Curr_Offer_Length_Sports'].str.rstrip('M')\n",
    "offerlen_info['Curr_Offer_Length_Sports'] = offerlen_info['Curr_Offer_Length_Sports'].astype('float64')\n",
    "offerlen_info = offerlen_info.reindex([3, 4, 1, 5, 0, 9, 6, 7, 2, 8])\n",
    "offerlen_info"
   ]
  },
  {
   "cell_type": "code",
   "execution_count": null,
   "id": "446cab0d",
   "metadata": {},
   "outputs": [],
   "source": [
    "plt.plot(offerlen_info['Curr_Offer_Length_Sports'], offerlen_info['Downgrades'].cumsum(), color = 'blue', alpha = 1)\n",
    "plt.xlabel(\"Offer Length\")\n",
    "plt.ylabel(\"Cumulative Downgrades\")\n",
    "plt.show()"
   ]
  },
  {
   "cell_type": "markdown",
   "id": "ff3c6b34",
   "metadata": {},
   "source": [
    "### DTV Product Holding"
   ]
  },
  {
   "cell_type": "code",
   "execution_count": null,
   "id": "a1ed06e1",
   "metadata": {},
   "outputs": [],
   "source": [
    "holdings_downgrades = \"\"\"\n",
    "SELECT\n",
    "  DTV_Product_Holding, SUM(Target_sports_downgrade) AS Total_downgrades, COUNT(*) as Num_with_holding\n",
    "FROM\n",
    "  `sky-uk-ids-analytics-prod.NPR13.Grad_Example_Propensity_Mart_Sports_Downgrades`\n",
    "GROUP BY DTV_Product_Holding\n",
    "\"\"\"\n",
    "product_info = client.query(holdings_downgrades).to_dataframe()\n",
    "product_info[['DTV_Product_Holding']] = product_info[['DTV_Product_Holding']].fillna(\"Unknown\")\n",
    "product_info"
   ]
  },
  {
   "cell_type": "code",
   "execution_count": null,
   "id": "96408a72",
   "metadata": {},
   "outputs": [],
   "source": [
    "# Number of customers vs total downgrades\n",
    "# Downgrades for each product holding\n",
    "plt.figure(figsize=(15,10))\n",
    "plt.subplot(1, 2, 1)\n",
    "plt.pie(product_info['Total_downgrades'], labels = product_info['DTV_Product_Holding'], autopct='%1.1f%%')\n",
    "plt.title(\"Proportion of downgrades from DTV product\")\n",
    "plt.subplot(1, 2, 2)\n",
    "plt.pie(product_info['Num_with_holding'], labels = product_info['DTV_Product_Holding'], autopct='%1.1f%%')\n",
    "plt.title(\"Proportion of customers with DTV product\")\n",
    "plt.show()"
   ]
  },
  {
   "cell_type": "markdown",
   "id": "ec6aa42f",
   "metadata": {},
   "source": [
    "Will use One Hot Encoder to encode these categories (but drop one of them, most likely the unknown category, as this will contain all information about Product Holdings)"
   ]
  },
  {
   "cell_type": "markdown",
   "id": "b975f9ff",
   "metadata": {},
   "source": [
    "### Offers and downgrades"
   ]
  },
  {
   "cell_type": "code",
   "execution_count": null,
   "id": "0595a234",
   "metadata": {},
   "outputs": [],
   "source": [
    "Offers_downgrades = \"\"\"\n",
    "SELECT\n",
    "  Offers_Applied_Ever_Sports, AVG(Curr_Offer_Amount_Sports) AS Average_offer, SUM(Target_sports_downgrade) AS Total_downgrades,\n",
    "FROM\n",
    "  `sky-uk-ids-analytics-prod.NPR13.Grad_Example_Propensity_Mart_Sports_Downgrades`\n",
    "GROUP BY Offers_Applied_Ever_Sports\n",
    "\"\"\"\n",
    "offer_info = client.query(Offers_downgrades).to_dataframe()\n",
    "offer_info.head()"
   ]
  },
  {
   "cell_type": "code",
   "execution_count": null,
   "id": "d5c77dca",
   "metadata": {},
   "outputs": [],
   "source": [
    "plt.bar(offer_info['Offers_Applied_Ever_Sports'],offer_info['Average_offer'])\n",
    "plt.xlabel('Offers applied ever')\n",
    "plt.ylabel('Average offer')\n",
    "plt.show()"
   ]
  },
  {
   "cell_type": "code",
   "execution_count": null,
   "id": "a5b0cfb2",
   "metadata": {},
   "outputs": [],
   "source": [
    "plt.bar(offer_info['Offers_Applied_Ever_Sports'],offer_info['Total_downgrades'])\n",
    "plt.show()"
   ]
  },
  {
   "cell_type": "markdown",
   "id": "927f9b67",
   "metadata": {},
   "source": [
    "### Last Activation date and DateDiff"
   ]
  },
  {
   "cell_type": "code",
   "execution_count": null,
   "id": "ca5e6ffa",
   "metadata": {},
   "outputs": [],
   "source": [
    "f, axs = plt.subplots(1,3,figsize=(30,5))\n",
    "plt.subplot(1, 3, 1)\n",
    "sns.histplot(full['DateDiff_months'],binwidth = 20)\n",
    "plt.subplot(1, 3, 2)\n",
    "sns.histplot(full['DTV_LA_Mon_Before_2019_09_01'],binwidth = 20)\n",
    "plt.subplot(1, 3, 3)\n",
    "sns.histplot(full['Sports_LA_Mon_Before_2019_09_01'],binwidth = 20)\n",
    "plt.show()"
   ]
  },
  {
   "cell_type": "markdown",
   "id": "73717a16",
   "metadata": {},
   "source": [
    "# Pre-Processing"
   ]
  },
  {
   "cell_type": "code",
   "execution_count": null,
   "id": "f2028ae9",
   "metadata": {},
   "outputs": [],
   "source": [
    "# Taking median of each age range and setting unknowns to null so that we can impute\n",
    "full['h_age_coarse'] = full['h_age_coarse'].replace(\"66+\",value=73)\n",
    "full['h_age_coarse'] = full['h_age_coarse'].replace(\"18-25\",value=21.5)\n",
    "full['h_age_coarse'] = full['h_age_coarse'].replace(\"26-35\",value=30.5)\n",
    "full['h_age_coarse'] = full['h_age_coarse'].replace(\"36-45\",value=40.5)\n",
    "full['h_age_coarse'] = full['h_age_coarse'].replace(\"46-55\",value=50.5)\n",
    "full['h_age_coarse'] = full['h_age_coarse'].replace(\"56-65\",value=60.5)\n",
    "full['h_age_coarse'] = full['h_age_coarse'].replace(\"Unknown\",value=np.nan)\n",
    "full.head()"
   ]
  },
  {
   "cell_type": "code",
   "execution_count": null,
   "id": "e762ffa7",
   "metadata": {},
   "outputs": [],
   "source": [
    "# Split into features and target\n",
    "X = full.iloc[:, 0:10]\n",
    "y = full.iloc[:, 10]"
   ]
  },
  {
   "cell_type": "code",
   "execution_count": null,
   "id": "43b19280",
   "metadata": {},
   "outputs": [],
   "source": [
    "from sklearn.model_selection import train_test_split"
   ]
  },
  {
   "cell_type": "code",
   "execution_count": null,
   "id": "ff482277",
   "metadata": {},
   "outputs": [],
   "source": [
    "X_train, X_test, y_train, y_test = train_test_split(X, y, test_size=0.2, random_state=42)"
   ]
  },
  {
   "cell_type": "code",
   "execution_count": null,
   "id": "56f478dc",
   "metadata": {},
   "outputs": [],
   "source": [
    "from sklearn.pipeline import Pipeline\n",
    "from sklearn.impute import SimpleImputer\n",
    "from sklearn.compose import ColumnTransformer\n",
    "from sklearn.preprocessing import OneHotEncoder, StandardScaler\n",
    "from imblearn.pipeline import Pipeline as iPipeline\n",
    "from imblearn.over_sampling import RandomOverSampler\n",
    "from imblearn.under_sampling import RandomUnderSampler\n",
    "from sklearn.experimental import enable_iterative_imputer\n",
    "from sklearn.impute import IterativeImputer\n",
    "from optbinning import BinningProcess"
   ]
  },
  {
   "cell_type": "code",
   "execution_count": null,
   "id": "2a69e51f",
   "metadata": {},
   "outputs": [],
   "source": [
    "# Making this all into a pipeline\n",
    "Offer_am = ['Curr_Offer_Amount_Sports']\n",
    "Offer_am_transformer = Pipeline(steps=[\n",
    "    ('zero imputer', SimpleImputer(strategy='constant', fill_value=0, add_indicator=False))\n",
    "    ])\n",
    "\n",
    "Offer_len = ['Curr_Offer_Length_Sports']\n",
    "Offer_len_transformer = Pipeline(steps=[\n",
    "    ('zero imputer', SimpleImputer(strategy='constant', fill_value=0, add_indicator=True))\n",
    "    ])\n",
    "\n",
    "mean_features = ['h_number_of_adults', 'h_number_of_children_in_hh', 'h_age_coarse']\n",
    "mean_transformer = Pipeline(steps=[\n",
    "    ('Iterative impute', IterativeImputer(n_nearest_features=3))\n",
    "    ])\n",
    "\n",
    "categorical_features = ['DTV_Product_Holding']\n",
    "categorical_transformer = Pipeline(steps=[\n",
    "    ('Unknown to null', SimpleImputer(missing_values='Unknown', strategy='constant', fill_value=np.nan)),\n",
    "    ('One Hot Encoding', OneHotEncoder(sparse=False, drop='first'))\n",
    "    ])\n",
    "\n",
    "#'DTV_LA_Mon_Before_2019_09_01' removed due to collinearity\n",
    "Dates_LA = ['Sports_LA_Mon_Before_2019_09_01']\n",
    "Dates_LA_transformer = Pipeline(steps=[\n",
    "    ('Null to zero', SimpleImputer(strategy='constant', fill_value=0))\n",
    "    ])\n",
    "\n",
    "Date_Diff_OE = ['DateDiff_months', 'Offers_Applied_Ever_Sports']\n",
    "Dates_Diff_OE_transformer = Pipeline(steps=[\n",
    "    ('Null to median', SimpleImputer(strategy='median'))\n",
    "    ])\n"
   ]
  },
  {
   "cell_type": "code",
   "execution_count": null,
   "id": "5186c17d",
   "metadata": {},
   "outputs": [],
   "source": [
    "# Pipeline to clean data and impute\n",
    "Cleaner = ColumnTransformer([\n",
    "    (\"Offer Ammount\", Offer_am_transformer, Offer_am),\n",
    "    (\"Offer Length Nulls\", Offer_len_transformer, Offer_len),\n",
    "    (\"Means\", mean_transformer, mean_features),\n",
    "    (\"Onehot\", categorical_transformer, categorical_features),\n",
    "    (\"Dates LA\", Dates_LA_transformer, Dates_LA),\n",
    "    (\"Dates Difference and OE\", Dates_Diff_OE_transformer, Date_Diff_OE),\n",
    "    ])"
   ]
  },
  {
   "cell_type": "code",
   "execution_count": null,
   "id": "0216c6ed",
   "metadata": {},
   "outputs": [],
   "source": [
    "# Defining sampling functions and pipeline to deal with imbalance\n",
    "oversample = RandomOverSampler(sampling_strategy=0.5)\n",
    "undersample = RandomUnderSampler(sampling_strategy=0.5)\n",
    "\n",
    "Sampler = iPipeline([\n",
    "    ('Oversampling', oversample),\n",
    "    ('Undersampling', undersample)\n",
    "    ])"
   ]
  },
  {
   "cell_type": "code",
   "execution_count": null,
   "id": "3da61835",
   "metadata": {},
   "outputs": [],
   "source": [
    "X_train_sampled, y_train_sampled = Sampler.fit_resample(X_train, y_train)\n",
    "#X_train_sampled, y_train_sampled = X_train, y_train\n",
    "X_train_t = Cleaner.fit_transform(X_train_sampled)\n",
    "X_test_t = Cleaner.transform(X_test)"
   ]
  },
  {
   "cell_type": "code",
   "execution_count": null,
   "id": "1ec0e612",
   "metadata": {},
   "outputs": [],
   "source": [
    "X_train_t.shape"
   ]
  },
  {
   "cell_type": "code",
   "execution_count": null,
   "id": "7306ebd8",
   "metadata": {},
   "outputs": [],
   "source": [
    "column_names = ['Curr_Offer_Amount_Sports', 'Curr_Offer_Length_Sports', 'Curr_Off_Len_null_ind', 'hh_adults', 'hh_children', 'age_est', 'Or_ind', 'OrLg2017_ind', 'OrLg_ind', 'Ent_ind', 'SkyQ_ind', 'Var_ind', 'Unknown_ind', 'Sports_LA_Mon_Before_2019_09_01', 'DateDiff_months', 'Offers_Applied_Ever_Sports']"
   ]
  },
  {
   "cell_type": "code",
   "execution_count": null,
   "id": "5dcd526b",
   "metadata": {},
   "outputs": [],
   "source": [
    "# Checking for correlated features\n",
    "df_train = pd.DataFrame(X_train_t, columns = column_names)\n",
    "df_test = pd.DataFrame(X_test_t, columns = column_names)\n",
    "plt.figure(figsize=(20,10))\n",
    "sns.heatmap(df_train.corr(),annot=True)\n",
    "plt.show()"
   ]
  },
  {
   "cell_type": "code",
   "execution_count": null,
   "id": "410aec51",
   "metadata": {},
   "outputs": [],
   "source": [
    "# Removing correlated features\n",
    "cols_to_remove = ['Curr_Offer_Amount_Sports']\n",
    "X_train_r = df_train.drop(columns = cols_to_remove)\n",
    "X_test_r = df_test.drop(columns = cols_to_remove)"
   ]
  },
  {
   "cell_type": "code",
   "execution_count": null,
   "id": "881c86f6",
   "metadata": {},
   "outputs": [],
   "source": [
    "columns = [x for x in column_names if x not in cols_to_remove]\n",
    "categorical_variables = ['Curr_Off_Len_null_ind', 'Or_ind', 'OrLg2017_ind', 'OrLg_ind', 'Ent_ind', 'SkyQ_ind', 'Var_ind', 'Unknown_ind']"
   ]
  },
  {
   "cell_type": "markdown",
   "id": "364d685e",
   "metadata": {},
   "source": [
    "# Models"
   ]
  },
  {
   "cell_type": "code",
   "execution_count": null,
   "id": "5af11ae7",
   "metadata": {},
   "outputs": [],
   "source": [
    "from sklearn.feature_selection import RFE, SequentialFeatureSelector\n",
    "from sklearn.metrics import confusion_matrix, classification_report, accuracy_score"
   ]
  },
  {
   "cell_type": "code",
   "execution_count": null,
   "id": "49e8b76a",
   "metadata": {},
   "outputs": [],
   "source": [
    "binning_process = BinningProcess(columns,\n",
    "                                 categorical_variables=categorical_variables)"
   ]
  },
  {
   "cell_type": "markdown",
   "id": "e44f8316",
   "metadata": {},
   "source": [
    "## Random Forest"
   ]
  },
  {
   "cell_type": "code",
   "execution_count": null,
   "id": "eb054cf0",
   "metadata": {},
   "outputs": [],
   "source": [
    "from sklearn.ensemble import RandomForestClassifier"
   ]
  },
  {
   "cell_type": "code",
   "execution_count": null,
   "id": "377be6b8",
   "metadata": {},
   "outputs": [],
   "source": [
    "# Optbinning\n",
    "rfcP = Pipeline(steps=[('binning_process', binning_process),\n",
    "                     ('scaling', StandardScaler()),\n",
    "                     ('Random_Forest', RandomForestClassifier(n_estimators = 100, max_depth=6))])\n",
    "\n",
    "rfcP.fit(X_train_r, y_train_sampled)\n",
    "\n",
    "predict_rfc = rfcP.predict(X_test_r)\n",
    "predict_proba_rfc = rfcP.predict_proba(X_test_r)"
   ]
  },
  {
   "cell_type": "code",
   "execution_count": null,
   "id": "43297d6b",
   "metadata": {},
   "outputs": [],
   "source": [
    "print(\"AUC score for Random Forest Pipeline is \" + str(sklearn.metrics.roc_auc_score(y_test, predict_proba_rfc[:,1])))\n",
    "print(confusion_matrix(y_test, predict_rfc))\n",
    "print(classification_report(y_test,predict_rfc))"
   ]
  },
  {
   "cell_type": "code",
   "execution_count": null,
   "id": "27db7c9b",
   "metadata": {},
   "outputs": [],
   "source": [
    "binning_process.summary()"
   ]
  },
  {
   "cell_type": "markdown",
   "id": "262c1a03",
   "metadata": {},
   "source": [
    "## Logistic Regression"
   ]
  },
  {
   "cell_type": "code",
   "execution_count": null,
   "id": "f5ac4801",
   "metadata": {},
   "outputs": [],
   "source": [
    "from sklearn.linear_model import LogisticRegression"
   ]
  },
  {
   "cell_type": "code",
   "execution_count": null,
   "id": "4e06c0e8",
   "metadata": {},
   "outputs": [],
   "source": [
    "# Optbinning\n",
    "lr = LogisticRegression(C=0.09, penalty='l1', solver='liblinear')\n",
    "\n",
    "lrP = Pipeline(steps=[('binning_process', binning_process),\n",
    "                     ('scaling', StandardScaler()),\n",
    "                     ('regressor', lr)])\n",
    "\n",
    "lrP.fit(X_train_r, y_train_sampled)\n",
    "\n",
    "predict_lr = lrP.predict(X_test_r)\n",
    "predict_proba_lr = lrP.predict_proba(X_test_r)"
   ]
  },
  {
   "cell_type": "code",
   "execution_count": null,
   "id": "83d8dd00",
   "metadata": {},
   "outputs": [],
   "source": [
    "print(\"AUC score for Logistic Regression Pipeline is \" + str(sklearn.metrics.roc_auc_score(y_test, predict_proba_lr[:,1])))\n",
    "print(confusion_matrix(y_test, predict_lr))\n",
    "print(classification_report(y_test,predict_lr))"
   ]
  },
  {
   "cell_type": "markdown",
   "id": "1ce24df1",
   "metadata": {},
   "source": [
    "## Decision Tree"
   ]
  },
  {
   "cell_type": "code",
   "execution_count": null,
   "id": "ea6cfcfe",
   "metadata": {},
   "outputs": [],
   "source": [
    "from sklearn import tree"
   ]
  },
  {
   "cell_type": "code",
   "execution_count": null,
   "id": "55d5972a",
   "metadata": {},
   "outputs": [],
   "source": [
    "# Optbinning, Decision Tree Pipeline\n",
    "dt = tree.DecisionTreeClassifier(max_depth=5)\n",
    "\n",
    "dtP = Pipeline(steps=[('binning_process', binning_process),\n",
    "                     ('scaling', StandardScaler()),\n",
    "                     ('Decision_tree', dt)])\n",
    "\n",
    "dtP.fit(X_train_r, y_train_sampled)\n",
    "\n",
    "predict_dt = dtP.predict(X_test_r)\n",
    "predict_proba_dt = dtP.predict_proba(X_test_r)"
   ]
  },
  {
   "cell_type": "code",
   "execution_count": null,
   "id": "df4f42da",
   "metadata": {},
   "outputs": [],
   "source": [
    "print(\"AUC score for Decision Tree Pipeline is \" + str(sklearn.metrics.roc_auc_score(y_test, predict_proba_dt[:,1])))\n",
    "print(confusion_matrix(y_test, predict_dt))\n",
    "print(classification_report(y_test,predict_dt))"
   ]
  },
  {
   "cell_type": "markdown",
   "id": "300a9571",
   "metadata": {},
   "source": [
    "## Gradient Boosting Classifier"
   ]
  },
  {
   "cell_type": "code",
   "execution_count": null,
   "id": "1a383052",
   "metadata": {},
   "outputs": [],
   "source": [
    "from sklearn.ensemble import GradientBoostingClassifier"
   ]
  },
  {
   "cell_type": "code",
   "execution_count": null,
   "id": "3b6cce17",
   "metadata": {},
   "outputs": [],
   "source": [
    "# Optbinning\n",
    "gbcP = Pipeline(steps=[('binning_process', binning_process),\n",
    "                     ('scaling', StandardScaler()),\n",
    "                     ('GBC', GradientBoostingClassifier())])\n",
    "\n",
    "gbcP.fit(X_train_r, y_train_sampled)\n",
    "\n",
    "predict_gbc = gbcP.predict(X_test_r)\n",
    "predict_proba_gbc = gbcP.predict_proba(X_test_r)"
   ]
  },
  {
   "cell_type": "code",
   "execution_count": null,
   "id": "7dce4d8e",
   "metadata": {},
   "outputs": [],
   "source": [
    "print(\"AUC score for GBC Pipeline is \" + str(sklearn.metrics.roc_auc_score(y_test, predict_proba_gbc[:,1])))\n",
    "print(confusion_matrix(y_test, predict_gbc))\n",
    "print(classification_report(y_test,predict_gbc))"
   ]
  },
  {
   "cell_type": "markdown",
   "id": "abfeaa55",
   "metadata": {},
   "source": [
    "### ROC Curves, PR Curve and Lift"
   ]
  },
  {
   "cell_type": "code",
   "execution_count": null,
   "id": "4e6e2b07",
   "metadata": {},
   "outputs": [],
   "source": [
    "from sklearn import metrics, model_selection\n",
    "from sklearn.metrics import roc_auc_score, precision_recall_curve, f1_score, auc"
   ]
  },
  {
   "cell_type": "code",
   "execution_count": null,
   "id": "7c90888c",
   "metadata": {},
   "outputs": [],
   "source": [
    "def lift(pred, y_test):\n",
    "    lc = pd.DataFrame({'Sports target downgrade': y_test, 'Pobability of 1': pred[:,1]})\n",
    "    lc.sort_values(by = 'Pobability of 1', ascending = False, inplace = True)\n",
    "    len_first_decile = int(len(lc)/10)\n",
    "    fd = lc[:len_first_decile]\n",
    "    ones_total = sum(lc['Sports target downgrade'])\n",
    "    av_ones = ones_total/len(lc)\n",
    "    ones_td = sum(fd['Sports target downgrade'])\n",
    "    gain_score = ones_td/len_first_decile\n",
    "    lift = round(gain_score / av_ones, 2)\n",
    "    return lift"
   ]
  },
  {
   "cell_type": "code",
   "execution_count": null,
   "id": "ffeae191",
   "metadata": {},
   "outputs": [],
   "source": [
    "classifiers = [rfcP, lrP, dtP, gbcP]\n",
    "plt.figure(figsize=(7, 7))\n",
    "ax = plt.gca()\n",
    "metrics.plot_roc_curve(rfcP, X_test_r, y_test, ax=ax, label='RFC (area = %0.2f)' % metrics.roc_auc_score(y_test, predict_proba_rfc[:,1]))\n",
    "metrics.plot_roc_curve(lrP, X_test_r, y_test, ax=ax, label='LR (area = %0.2f)' % metrics.roc_auc_score(y_test, predict_proba_lr[:,1]))\n",
    "metrics.plot_roc_curve(dtP, X_test_r, y_test, ax=ax, label='DT (area = %0.2f)' % metrics.roc_auc_score(y_test, predict_proba_dt[:,1]))\n",
    "metrics.plot_roc_curve(gbcP, X_test_r, y_test, ax=ax, label='GBC (area = %0.2f)' % metrics.roc_auc_score(y_test, predict_proba_gbc[:,1]))\n",
    "plt.show()"
   ]
  },
  {
   "cell_type": "code",
   "execution_count": null,
   "id": "b00da136",
   "metadata": {},
   "outputs": [],
   "source": [
    "AUCs = [metrics.roc_auc_score(y_test, predict_proba_rfc[:,1]), metrics.roc_auc_score(y_test, predict_proba_lr[:,1]), metrics.roc_auc_score(y_test, predict_proba_dt[:,1]), metrics.roc_auc_score(y_test, predict_proba_gbc[:,1])]\n",
    "lifts = [lift(predict_proba_rfc, y_test), lift(predict_proba_lr, y_test), lift(predict_proba_dt, y_test), lift(predict_proba_gbc, y_test)]"
   ]
  },
  {
   "cell_type": "code",
   "execution_count": null,
   "id": "61dd62a7",
   "metadata": {},
   "outputs": [],
   "source": [
    "Table = pd.DataFrame({'Model' : [\"Random Forest\", \"Logistic Regression\", \"Decision Tree\", \"Gradient Boosting\"], 'AUC' : AUCs, 'Lift on First Decile': lifts})"
   ]
  },
  {
   "cell_type": "code",
   "execution_count": null,
   "id": "84d7d4dc",
   "metadata": {},
   "outputs": [],
   "source": [
    "Table"
   ]
  },
  {
   "cell_type": "code",
   "execution_count": null,
   "id": "d275a7bb",
   "metadata": {},
   "outputs": [],
   "source": [
    "rfc_precision, rfc_recall, _ = precision_recall_curve(y_test, predict_proba_rfc[:,1])\n",
    "\n",
    "lr_precision, lr_recall, _ = precision_recall_curve(y_test, predict_proba_lr[:,1])\n",
    "\n",
    "dt_precision, dt_recall, _ = precision_recall_curve(y_test, predict_proba_dt[:,1])\n",
    "\n",
    "gbc_precision, gbc_recall, _ = precision_recall_curve(y_test, predict_proba_gbc[:,1])\n",
    "\n",
    "# plot the precision-recall curves\n",
    "no_skill = len(y_test[y_test==1]) / len(y_test)\n",
    "\n",
    "plt.figure(figsize=(10, 7))\n",
    "plt.plot([0, 1], [no_skill, no_skill], linestyle='--', label='No Skill')\n",
    "plt.plot(rfc_recall, rfc_precision, markersize=1, label='RFC')\n",
    "plt.plot(lr_recall, lr_precision, markersize=1, label='LR')\n",
    "plt.plot(dt_recall, dt_precision, markersize=1, label='DT')\n",
    "plt.plot(gbc_recall, gbc_precision, markersize=1, label='GBC')\n",
    "plt.xlabel('Recall')\n",
    "plt.ylabel('Precision')\n",
    "plt.legend()\n",
    "plt.show()"
   ]
  },
  {
   "cell_type": "markdown",
   "id": "740df9f6",
   "metadata": {},
   "source": [
    "## Without Sampling"
   ]
  },
  {
   "cell_type": "code",
   "execution_count": null,
   "id": "379bbae5",
   "metadata": {},
   "outputs": [],
   "source": [
    "X_train_n1 = Cleaner.fit_transform(X_train)\n",
    "X_test_n1 = Cleaner.transform(X_test)\n",
    "\n",
    "df_train_n = pd.DataFrame(X_train_n1, columns = column_names)\n",
    "df_test_n = pd.DataFrame(X_test_n1, columns = column_names)\n",
    "\n",
    "X_train_n = df_train_n.drop(columns = cols_to_remove)\n",
    "X_test_n = df_test_n.drop(columns = cols_to_remove)"
   ]
  },
  {
   "cell_type": "code",
   "execution_count": null,
   "id": "2370c63a",
   "metadata": {},
   "outputs": [],
   "source": [
    "# Random Forest\n",
    "\n",
    "rfcP_n = Pipeline(steps=[('binning_process', binning_process),\n",
    "                     ('scaling', StandardScaler()),\n",
    "                     ('Random_forest', RandomForestClassifier(n_estimators = 100, max_depth=6))])\n",
    "\n",
    "rfcP_n.fit(X_train_n, y_train)\n",
    "\n",
    "predict_rfc_n = rfcP_n.predict(X_test_n)\n",
    "predict_proba_rfc_n = rfcP_n.predict_proba(X_test_n)"
   ]
  },
  {
   "cell_type": "code",
   "execution_count": null,
   "id": "ff894033",
   "metadata": {},
   "outputs": [],
   "source": [
    "# Linear Regression\n",
    "\n",
    "lrP_n = Pipeline(steps=[('binning_process', binning_process),\n",
    "                     ('scaling', StandardScaler()),\n",
    "                     ('Logistic_regression', lr)])\n",
    "\n",
    "lrP_n.fit(X_train_n, y_train)\n",
    "\n",
    "predict_lr_n = lrP_n.predict(X_test_n)\n",
    "predict_proba_lr_n = lrP_n.predict_proba(X_test_n)"
   ]
  },
  {
   "cell_type": "code",
   "execution_count": null,
   "id": "ffbd8cc0",
   "metadata": {},
   "outputs": [],
   "source": [
    "# Decision Tree\n",
    "\n",
    "dtP_n = Pipeline(steps=[('binning_process', binning_process),\n",
    "                     ('scaling', StandardScaler()),\n",
    "                     ('Decision_Tree', dt)])\n",
    "\n",
    "dtP_n.fit(X_train_n, y_train)\n",
    "\n",
    "predict_dt_n = dtP_n.predict(X_test_n)\n",
    "predict_proba_dt_n = dtP_n.predict_proba(X_test_n)"
   ]
  },
  {
   "cell_type": "code",
   "execution_count": null,
   "id": "5b3d4c5f",
   "metadata": {},
   "outputs": [],
   "source": [
    "# Gradient Boosting\n",
    "\n",
    "gbcP_n = Pipeline(steps=[('binning_process', binning_process),\n",
    "                     ('scaling', StandardScaler()),\n",
    "                     ('GBC', GradientBoostingClassifier())])\n",
    "\n",
    "gbcP_n.fit(X_train_n, y_train)\n",
    "\n",
    "predict_gbc_n = gbcP_n.predict(X_test_n)\n",
    "predict_proba_gbc_n = gbcP_n.predict_proba(X_test_n)"
   ]
  },
  {
   "cell_type": "code",
   "execution_count": null,
   "id": "b9e98ffb",
   "metadata": {},
   "outputs": [],
   "source": [
    "AUCs_n = [metrics.roc_auc_score(y_test, predict_proba_rfc_n[:,1]), metrics.roc_auc_score(y_test, predict_proba_lr_n[:,1]), metrics.roc_auc_score(y_test, predict_proba_dt_n[:,1]), metrics.roc_auc_score(y_test, predict_proba_gbc_n[:,1])]\n",
    "lifts_n = [lift(predict_proba_rfc_n, y_test), lift(predict_proba_lr_n, y_test), lift(predict_proba_dt_n, y_test), lift(predict_proba_gbc_n, y_test)]"
   ]
  },
  {
   "cell_type": "code",
   "execution_count": null,
   "id": "d646f867",
   "metadata": {},
   "outputs": [],
   "source": [
    "Table_n = pd.DataFrame({'Model' : [\"Random Forest\", \"Logistic Regression\", \"Decision Tree\", \"Gradient Boosting\"], 'AUC' : AUCs_n, 'Lift on First Decile': lifts_n})\n",
    "# Unsampled Results\n",
    "Table_n"
   ]
  },
  {
   "cell_type": "code",
   "execution_count": null,
   "id": "9d4d1025",
   "metadata": {},
   "outputs": [],
   "source": [
    "# Sampled Results\n",
    "Table"
   ]
  },
  {
   "cell_type": "markdown",
   "id": "a937ccd4",
   "metadata": {},
   "source": [
    "# Exploring important features"
   ]
  },
  {
   "cell_type": "code",
   "execution_count": null,
   "id": "172f5167",
   "metadata": {},
   "outputs": [],
   "source": [
    "# Feature Importance for sampled Data"
   ]
  },
  {
   "cell_type": "code",
   "execution_count": null,
   "id": "ae49fbf6",
   "metadata": {},
   "outputs": [],
   "source": [
    "plt.figure(figsize=(30, 7))\n",
    "\n",
    "plt.subplot(1,4,1)\n",
    "plt.title('Random Forest Feature Importances')\n",
    "plt.bar(columns, rfcP[2].feature_importances_, color='b', alpha = 0.7)\n",
    "plt.xticks(rotation=90)\n",
    "\n",
    "plt.subplot(1,4,2)\n",
    "plt.title('Logistic Regression Feature Coeffiecients (abs)')\n",
    "plt.bar(columns, abs(lrP[2].coef_[0]), color='r', alpha = 0.7)\n",
    "plt.xticks(rotation=90)\n",
    "\n",
    "plt.subplot(1,4,3)\n",
    "plt.title('Decision Tree Feature Importances')\n",
    "plt.bar(columns, dtP[2].feature_importances_, color='g', alpha = 0.7)\n",
    "plt.xticks(rotation=90)\n",
    "\n",
    "plt.subplot(1,4,4)\n",
    "plt.title('Gradient Boosting Classifier Feature Importances')\n",
    "plt.bar(columns, gbcP[2].feature_importances_, color='y', alpha = 0.7)\n",
    "plt.xticks(rotation=90)\n",
    "\n",
    "plt.show()"
   ]
  },
  {
   "cell_type": "markdown",
   "id": "1fe39720",
   "metadata": {},
   "source": [
    "From this it is clear that the most important features are Current offer length, Sports Last Activation months before 2019, DateDiff and whether or not they hold Sky Entertainment"
   ]
  },
  {
   "cell_type": "markdown",
   "id": "fa927d35",
   "metadata": {},
   "source": [
    "### Feature Selection Random Forest"
   ]
  },
  {
   "cell_type": "code",
   "execution_count": null,
   "id": "1d446102",
   "metadata": {},
   "outputs": [],
   "source": [
    "features_rfc = ['Curr_Offer_Length_Sports', 'Curr_Off_Len_null_ind', 'Ent_ind', 'Sports_LA_Mon_Before_2019_09_01', 'DateDiff_months']\n",
    "X_train_rfcfs = X_train_r[features_rfc]\n",
    "X_test_rfcfs = X_test_r[features_rfc]"
   ]
  },
  {
   "cell_type": "code",
   "execution_count": null,
   "id": "91e38a12",
   "metadata": {},
   "outputs": [],
   "source": [
    "binning_process_rfcfs = BinningProcess(features_rfc,\n",
    "                                 categorical_variables=['Curr_Off_Len_null_ind', 'Ent_ind'])"
   ]
  },
  {
   "cell_type": "code",
   "execution_count": null,
   "id": "81aae237",
   "metadata": {},
   "outputs": [],
   "source": [
    "rfcP_fs = Pipeline(steps=[('binning_process', binning_process_rfcfs),\n",
    "                     ('scaling', StandardScaler()),\n",
    "                     ('Random_Forest', RandomForestClassifier(n_estimators = 100, max_depth=6))])\n",
    "\n",
    "rfcP_fs.fit(X_train_rfcfs, y_train_sampled)\n",
    "\n",
    "predict_rfc_fs = rfcP_fs.predict(X_test_rfcfs)\n",
    "predict_proba_rfc_fs = rfcP_fs.predict_proba(X_test_rfcfs)"
   ]
  },
  {
   "cell_type": "code",
   "execution_count": null,
   "id": "5fa9db41",
   "metadata": {},
   "outputs": [],
   "source": [
    "print(\"AUC score for Random Forest Pipeline with 5 features is \" + str(sklearn.metrics.roc_auc_score(y_test, predict_proba_rfc_fs[:,1])))\n",
    "print(confusion_matrix(y_test, predict_rfc_fs))\n",
    "print(\"It has a lift of \"+str(lift(predict_proba_rfc_fs, y_test)))"
   ]
  },
  {
   "cell_type": "markdown",
   "id": "2c5bd172",
   "metadata": {},
   "source": [
    "### Feature Selected Logistic Regression"
   ]
  },
  {
   "cell_type": "code",
   "execution_count": null,
   "id": "f5679a50",
   "metadata": {},
   "outputs": [],
   "source": [
    "features_lr = ['Curr_Offer_Length_Sports', 'Curr_Off_Len_null_ind', 'Ent_ind', 'Sports_LA_Mon_Before_2019_09_01', 'DateDiff_months']\n",
    "X_train_lrfs = X_train_r[features_lr]\n",
    "X_test_lrfs = X_test_r[features_lr]"
   ]
  },
  {
   "cell_type": "code",
   "execution_count": null,
   "id": "8b9eb6d7",
   "metadata": {},
   "outputs": [],
   "source": [
    "binning_process_lrfs = BinningProcess(features_lr,\n",
    "                                 categorical_variables=['Curr_Off_Len_null_ind', 'Ent_ind'])"
   ]
  },
  {
   "cell_type": "code",
   "execution_count": null,
   "id": "040e9e3c",
   "metadata": {},
   "outputs": [],
   "source": [
    "lrP_fs = Pipeline(steps=[('binning_process', binning_process_lrfs),\n",
    "                     ('scaling', StandardScaler()),\n",
    "                     ('Linear_regression', lr)])\n",
    "\n",
    "lrP_fs.fit(X_train_lrfs, y_train_sampled)\n",
    "\n",
    "predict_lr_fs = lrP_fs.predict(X_test_lrfs)\n",
    "predict_proba_lr_fs = lrP_fs.predict_proba(X_test_lrfs)"
   ]
  },
  {
   "cell_type": "code",
   "execution_count": null,
   "id": "f4766660",
   "metadata": {},
   "outputs": [],
   "source": [
    "print(\"AUC score for Logistic Regression Pipeline with only these 5 features is \" + str(sklearn.metrics.roc_auc_score(y_test, predict_proba_lr_fs[:,1])))\n",
    "print(confusion_matrix(y_test, predict_lr_fs))\n",
    "print(\"It has a lift of \"+str(lift(predict_proba_lr_fs, y_test)))"
   ]
  },
  {
   "cell_type": "markdown",
   "id": "fbf71d20",
   "metadata": {},
   "source": [
    "### Tuning this logistic regression model"
   ]
  },
  {
   "cell_type": "code",
   "execution_count": null,
   "id": "c0044ae8",
   "metadata": {},
   "outputs": [],
   "source": [
    "from sklearn.model_selection import GridSearchCV"
   ]
  },
  {
   "cell_type": "code",
   "execution_count": null,
   "id": "379dc86d",
   "metadata": {},
   "outputs": [],
   "source": [
    "grid_values_lr = {'penalty': ['l1', 'l2'],'C':[0.001,.009,0.01,.09,1,5,10,25], 'solver':['liblinear']}\n",
    "tuned_lrP_fs = Pipeline(steps=[('binning_process', binning_process_lrfs),\n",
    "                     ('scaling', StandardScaler()),\n",
    "                     ('Grid_search', GridSearchCV(LogisticRegression(), param_grid=grid_values_lr ,scoring = 'roc_auc'))])\n",
    "\n",
    "tuned_lrP_fs.fit(X_train_lrfs, y_train_sampled)\n",
    "\n",
    "tuned_predict_lr_fs = tuned_lrP_fs.predict(X_test_lrfs)\n",
    "tuned_predict_proba_lr_fs = tuned_lrP_fs.predict_proba(X_test_lrfs)"
   ]
  },
  {
   "cell_type": "code",
   "execution_count": null,
   "id": "36aaf26e",
   "metadata": {},
   "outputs": [],
   "source": [
    "print(\"AUC score for the tuned Logistic Regression Pipeline with only these 5 features is \" + str(sklearn.metrics.roc_auc_score(y_test, tuned_predict_proba_lr_fs[:,1])))\n",
    "print(confusion_matrix(y_test, tuned_predict_lr_fs))\n",
    "print(\"It has a lift of \"+str(lift(tuned_predict_proba_lr_fs, y_test)))"
   ]
  },
  {
   "cell_type": "code",
   "execution_count": null,
   "id": "2e853ffc",
   "metadata": {},
   "outputs": [],
   "source": [
    "tuned_lrP_fs[2].best_params_"
   ]
  },
  {
   "cell_type": "markdown",
   "id": "56e5879c",
   "metadata": {},
   "source": [
    "### Feature Selected Decision Tree"
   ]
  },
  {
   "cell_type": "code",
   "execution_count": null,
   "id": "51780a28",
   "metadata": {},
   "outputs": [],
   "source": [
    "features_dt = ['Curr_Offer_Length_Sports', 'Ent_ind', 'Sports_LA_Mon_Before_2019_09_01', 'DateDiff_months']\n",
    "X_train_dtfs = X_train_r[features_dt]\n",
    "X_test_dtfs = X_test_r[features_dt]"
   ]
  },
  {
   "cell_type": "code",
   "execution_count": null,
   "id": "5700b312",
   "metadata": {},
   "outputs": [],
   "source": [
    "binning_process_dtfs = BinningProcess(features_dt,\n",
    "                                 categorical_variables=['Ent_ind'])"
   ]
  },
  {
   "cell_type": "code",
   "execution_count": null,
   "id": "c8fccc5a",
   "metadata": {},
   "outputs": [],
   "source": [
    "dtP_fs = Pipeline(steps=[('binning_process', binning_process_dtfs),\n",
    "                     ('scaling', StandardScaler()),\n",
    "                     ('decision_tree', tree.DecisionTreeClassifier(max_depth=6))])\n",
    "\n",
    "dtP_fs.fit(X_train_dtfs, y_train_sampled)\n",
    "\n",
    "predict_dt_fs = dtP_fs.predict(X_test_dtfs)\n",
    "predict_proba_dt_fs = dtP_fs.predict_proba(X_test_dtfs)"
   ]
  },
  {
   "cell_type": "code",
   "execution_count": null,
   "id": "300a2878",
   "metadata": {},
   "outputs": [],
   "source": [
    "print(\"AUC score for the Decision Tree with 4 features is \" + str(sklearn.metrics.roc_auc_score(y_test, predict_proba_dt_fs[:,1])))\n",
    "print(confusion_matrix(y_test, predict_dt_fs))\n",
    "print(\"It has a lift of \"+str(lift(predict_proba_dt_fs, y_test)))"
   ]
  },
  {
   "cell_type": "markdown",
   "id": "cce4c530",
   "metadata": {},
   "source": [
    "### Tuning the Decision Tree"
   ]
  },
  {
   "cell_type": "code",
   "execution_count": null,
   "id": "55648d2d",
   "metadata": {},
   "outputs": [],
   "source": [
    "tr_fs = Pipeline(steps=[('binning_process', binning_process_dtfs),\n",
    "                     ('scaling', StandardScaler())])\n",
    "\n",
    "X_train_dtfs_tr = tr_fs.fit_transform(X_train_dtfs, y_train_sampled)\n",
    "X_test_dtfs_tr = tr_fs.transform(X_test_dtfs)"
   ]
  },
  {
   "cell_type": "code",
   "execution_count": null,
   "id": "0ef739fa",
   "metadata": {},
   "outputs": [],
   "source": [
    "dt = tree.DecisionTreeClassifier()\n",
    "grid_values_dt = {'max_depth': [3,4,5], 'min_samples_leaf': [1, 2, 4]}\n",
    "grid_search = GridSearchCV(dt, param_grid = grid_values_dt)\n",
    "\n",
    "grid_search.fit(X_train_dtfs_tr, y_train_sampled)\n",
    "tuned_predict_dt_fs = grid_search.predict(X_test_dtfs_tr)\n",
    "tuned_predict_proba_dt_fs = grid_search.predict_proba(X_test_dtfs_tr)"
   ]
  },
  {
   "cell_type": "code",
   "execution_count": null,
   "id": "f7832327",
   "metadata": {},
   "outputs": [],
   "source": [
    "print(\"AUC score for the tuned Decision Tree with 4 features is \" + str(sklearn.metrics.roc_auc_score(y_test, tuned_predict_proba_dt_fs[:,1])))\n",
    "print(confusion_matrix(y_test, tuned_predict_dt_fs))\n",
    "print(\"It has a lift of \"+str(lift(tuned_predict_proba_dt_fs, y_test)))"
   ]
  },
  {
   "cell_type": "code",
   "execution_count": null,
   "id": "9992a1c3",
   "metadata": {},
   "outputs": [],
   "source": [
    "grid_search.best_params_"
   ]
  },
  {
   "cell_type": "markdown",
   "id": "68b03131",
   "metadata": {},
   "source": [
    "### Feature Selected GBC"
   ]
  },
  {
   "cell_type": "code",
   "execution_count": null,
   "id": "6bf1c3ec",
   "metadata": {},
   "outputs": [],
   "source": [
    "features_gbc = ['Curr_Offer_Length_Sports', 'Curr_Off_Len_null_ind', 'Ent_ind', 'Sports_LA_Mon_Before_2019_09_01', 'DateDiff_months']\n",
    "X_train_gbcfs = X_train_r[features_gbc]\n",
    "X_test_gbcfs = X_test_r[features_gbc]"
   ]
  },
  {
   "cell_type": "code",
   "execution_count": null,
   "id": "18a230d8",
   "metadata": {},
   "outputs": [],
   "source": [
    "binning_process_gbcfs = BinningProcess(features_gbc,\n",
    "                                 categorical_variables=['Curr_Off_Len_null_ind', 'Ent_ind'])"
   ]
  },
  {
   "cell_type": "code",
   "execution_count": null,
   "id": "3654247e",
   "metadata": {},
   "outputs": [],
   "source": [
    "gbcP_fs = Pipeline(steps=[('binning_process', binning_process_gbcfs),\n",
    "                     ('scaling', StandardScaler()),\n",
    "                     ('GBC', GradientBoostingClassifier())])\n",
    "\n",
    "gbcP_fs.fit(X_train_gbcfs, y_train_sampled)\n",
    "\n",
    "predict_gbc_fs = gbcP_fs.predict(X_test_gbcfs)\n",
    "predict_proba_gbc_fs = gbcP_fs.predict_proba(X_test_gbcfs)"
   ]
  },
  {
   "cell_type": "code",
   "execution_count": null,
   "id": "0db584c8",
   "metadata": {},
   "outputs": [],
   "source": [
    "print(\"AUC score for the Gradient Boosted Classifier Pipeline with 5 features is \" + str(sklearn.metrics.roc_auc_score(y_test, predict_proba_gbc_fs[:,1])))\n",
    "print(confusion_matrix(y_test, predict_gbc_fs))\n",
    "print(\"It has a lift of \"+str(lift(predict_proba_gbc_fs, y_test)))"
   ]
  },
  {
   "cell_type": "code",
   "execution_count": null,
   "id": "efad6f9b",
   "metadata": {},
   "outputs": [],
   "source": [
    "AUCs_fs = [sklearn.metrics.roc_auc_score(y_test, predict_proba_rfc_fs[:,1]), sklearn.metrics.roc_auc_score(y_test, tuned_predict_proba_lr_fs[:,1]), sklearn.metrics.roc_auc_score(y_test, tuned_predict_proba_dt_fs[:,1]), sklearn.metrics.roc_auc_score(y_test, predict_proba_gbc_fs[:,1])]\n",
    "lifts_fs = [lift(predict_proba_rfc_fs, y_test), lift(tuned_predict_proba_lr_fs, y_test), lift(tuned_predict_proba_dt_fs, y_test), lift(predict_proba_gbc_fs, y_test)]"
   ]
  },
  {
   "cell_type": "markdown",
   "id": "77afecae",
   "metadata": {},
   "source": [
    "## Model, Feature and Sample Selection"
   ]
  },
  {
   "cell_type": "code",
   "execution_count": null,
   "id": "370988db",
   "metadata": {},
   "outputs": [],
   "source": [
    "plt.figure(figsize=(14, 7))\n",
    "x_labels = ['Random Forest Classifier', 'Logistic Regression', 'Decision Tree', 'Gradient Boosting Classifier']\n",
    "\n",
    "plt.subplot(1,2,1)\n",
    "plt.xticks(rotation=90)\n",
    "plt.scatter(x_labels, AUCs, color='r', alpha = 0.7)\n",
    "plt.scatter(x_labels, AUCs_n, color='g', alpha = 0.7)\n",
    "plt.scatter(x_labels, AUCs_fs, color='b', alpha = 0.7)\n",
    "plt.legend(['Sampled','Unsampled', 'Sampled and Feature Selected'])\n",
    "plt.xlabel('Model')\n",
    "plt.ylabel('AUC')\n",
    "plt.grid()\n",
    "plt.title('AUC for each model')\n",
    "\n",
    "plt.subplot(1,2,2)\n",
    "plt.xticks(rotation=90)\n",
    "plt.scatter(x_labels, lifts, color='r', alpha = 0.7)\n",
    "plt.scatter(x_labels, lifts_n, color='g', alpha = 0.7)\n",
    "plt.scatter(x_labels, lifts_fs, color='b', alpha = 0.7)\n",
    "plt.legend(['Sampled','Unsampled', 'Sampled and Feature Selected'])\n",
    "plt.xlabel('Model')\n",
    "plt.ylabel('Lift')\n",
    "plt.grid()\n",
    "plt.title('Lift for each model')\n",
    "\n",
    "plt.show()"
   ]
  },
  {
   "cell_type": "code",
   "execution_count": null,
   "id": "9abcea36",
   "metadata": {},
   "outputs": [],
   "source": []
  }
 ],
 "metadata": {
  "environment": {
   "name": "common-cpu.m75",
   "type": "gcloud",
   "uri": "gcr.io/deeplearning-platform-release/base-cpu:m75"
  },
  "kernelspec": {
   "display_name": "Python 3",
   "language": "python",
   "name": "python3"
  },
  "language_info": {
   "codemirror_mode": {
    "name": "ipython",
    "version": 3
   },
   "file_extension": ".py",
   "mimetype": "text/x-python",
   "name": "python",
   "nbconvert_exporter": "python",
   "pygments_lexer": "ipython3",
   "version": "3.7.10"
  }
 },
 "nbformat": 4,
 "nbformat_minor": 5
}
